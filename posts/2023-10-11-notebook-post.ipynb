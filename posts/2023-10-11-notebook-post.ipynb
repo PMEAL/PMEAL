{
 "cells": [
  {
   "attachments": {},
   "cell_type": "markdown",
   "id": "5c2b0251",
   "metadata": {},
   "source": [
    "# What's New in OpenPNM V3\n",
    "\n",
    "```{post} 2023-10-111\n",
    ":tags: openpnm\n",
    ":redirect: openpnm-used-for-pemfc-simulation\n",
    "```"
   ]
  },
  {
   "cell_type": "markdown",
   "id": "fe9b00de-788d-466c-a033-775ff438ce9d",
   "metadata": {},
   "source": [
    "A few days ago our lastest paper went \"live\" in [Applied Energy](https://doi.org/10.1016/j.apenergy.2023.122004).  I don't normally post announcements about this sort of thing, but this case is noteworthy.  Firstly, it's a really great paper, with contributions from more collaborators than usual.  Shawn Litster's group at CMU provided volumetric images.  Researchers from the fuel cell research team at GM provided the experimental performance and degradation data.  Dave Muller's group from Cornell measured the Pt distribution in the catalyst layer.  So lots of brain power was behind this work...but that is not the part I want to brag about.  This paper represents the culmination of all the work conducted in the PMEAL lab over the last 5 years, and I wanted to take a moment to summarize just how many developments were required to get here."
   ]
  },
  {
   "cell_type": "markdown",
   "id": "526708b5-51c9-4282-9a4e-9e2da5d7f971",
   "metadata": {},
   "source": [
    "## Network Extraction\n",
    "\n",
    "The ability to reliably extract pore networks from images has always been a challenge. Martin Blunt has been generous with sharing of his group's MaximalBall code since he published it in 2010, but this code was not exactly user friendly.  In 2017 I moved from McGill to UWaterloo and had a few semesters in a row with no teaching.  This turned out to be the perfect opportunity to work on our own network extraction code, which we called SNOW (since catchy acronyms are always a good idea!).  Having our own extraction code, written in python, and frankly quite simple, was a huge boost for us since we could customize and optimize it at will. We leveraged this ability to make several important extensions to the code.\n",
    "\n",
    "![](../_static/images/figure_1f.png)\n",
    "\n",
    "## Multiphase Network Extraction\n",
    "\n",
    "At some point we realized that not only could the network extraction be applied to [both the solid and void phases](https://dx.doi.org/10.1149/1945-7111/ab7bd8), but also that we could connect these two networks to allow exchange of material between the phases.  This was the subject of a paper in [Computers in Chemical Engineering](https://doi.org/10.1016/j.compchemeng.2018.12.025), and utilized for [modeling Li-ion battery discharge](https://doi.org/10.1149/1945-7111/ac120c). Interconnected, multiphase network extraction is essential for 'multiphysics' modeling in PNMs.\n",
    "\n",
    "![](../_static/images/2_phase_extraction_4.png)\n",
    "\n",
    "## Parallelized Network Extraction\n",
    "\n",
    "The watershed filter is the main step in the SNOW algorithm, but it can be annoyingly slow on large images.  [In 2020](https://doi.org/10.1016/j.advwatres.2020.103734) we found that this filter could be applied to an image in chunks and then pieced back together to nearly perfect results, if a sufficent amount of overlap was used between the chunks.  The ability to process many chunks in parallel is obviously quite handy when dealing with massive images, assuming you have a PC with lots of cores and enough RAM.\n",
    "\n",
    "![](../_static/images/parallel_snow.png)"
   ]
  },
  {
   "cell_type": "markdown",
   "id": "740455b5-a8a7-4b8d-9093-cbfa1b12fe80",
   "metadata": {},
   "source": [
    "## Fuel Cell Simulations\n",
    "\n",
    "The above progress in network extraction allowed us to build \"the ultimate\" pore network model of a fuel cell catalyst layer.  These layers consist of FOUR phases: void, ionomer, carbon and platinum.  Gas diffusion in the void space and dissolves into the ionomer phase.  Ions travel through the ionomer phase and meet dissolved gas at the catalyst sites.  Electrons travel through the carbon backbone to the reaction sites as well.  The transport of all these species is directly coupled to the microscopic structure of each phase so this problem is a great candidate for PNMs.  \n",
    "\n",
    "We started applying our multiphase network extraction tool to artificially generated images, and gave a talk about this at an ECS meeting.  Shawn Litster was in the audience and mentioned that he had REAL images of catalyst layers obtained with FIB-SEM at 2nm voxel resolution (in all three directions!).  So we switched to working on these images.  This required some experimenting with ways to insert carbon spheres and Pt sites into the image, but eventually we had a viable image.  The problem was that even with such excellent resolution, the network extraction tool had trouble with the smaller features...so we had to magnify the image by 4x.  \n",
    "\n",
    "So we had 4 phase image that was already quite large (1600 voxels cubed) that was zoomed up by another factor of 4, and we needed to perform multiphase network extraction on it.  This felt like all the hard work over the past 5+ years was leading to this moment. The results speak form themselves:\n",
    "\n",
    "![tomography-4phase-all-net2.png](../_static/images/tomography-4phase-all-net2.png)"
   ]
  }
 ],
 "metadata": {
  "kernelspec": {
   "display_name": "Python 3 (ipykernel)",
   "language": "python",
   "name": "python3"
  },
  "language_info": {
   "codemirror_mode": {
    "name": "ipython",
    "version": 3
   },
   "file_extension": ".py",
   "mimetype": "text/x-python",
   "name": "python",
   "nbconvert_exporter": "python",
   "pygments_lexer": "ipython3",
   "version": "3.10.12"
  }
 },
 "nbformat": 4,
 "nbformat_minor": 5
}
